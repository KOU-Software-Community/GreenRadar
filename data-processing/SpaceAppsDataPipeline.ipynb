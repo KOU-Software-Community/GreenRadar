{
  "nbformat": 4,
  "nbformat_minor": 0,
  "metadata": {
    "colab": {
      "provenance": []
    },
    "kernelspec": {
      "name": "python3",
      "display_name": "Python 3"
    },
    "language_info": {
      "name": "python"
    }
  },
  "cells": [
    {
      "cell_type": "code",
      "execution_count": null,
      "metadata": {
        "id": "9uadNWlsB5zw",
        "colab": {
          "base_uri": "https://localhost:8080/"
        },
        "outputId": "dd6a3735-0702-4338-dcfa-12d46503c5fc"
      },
      "outputs": [
        {
          "output_type": "stream",
          "name": "stdout",
          "text": [
            "Requirement already satisfied: rasterio in /usr/local/lib/python3.12/dist-packages (1.4.3)\n",
            "Requirement already satisfied: shapely in /usr/local/lib/python3.12/dist-packages (2.1.2)\n",
            "Requirement already satisfied: pyproj in /usr/local/lib/python3.12/dist-packages (3.7.2)\n",
            "Requirement already satisfied: geopandas in /usr/local/lib/python3.12/dist-packages (1.1.1)\n",
            "Requirement already satisfied: affine in /usr/local/lib/python3.12/dist-packages (from rasterio) (2.4.0)\n",
            "Requirement already satisfied: attrs in /usr/local/lib/python3.12/dist-packages (from rasterio) (25.3.0)\n",
            "Requirement already satisfied: certifi in /usr/local/lib/python3.12/dist-packages (from rasterio) (2025.8.3)\n",
            "Requirement already satisfied: click>=4.0 in /usr/local/lib/python3.12/dist-packages (from rasterio) (8.3.0)\n",
            "Requirement already satisfied: cligj>=0.5 in /usr/local/lib/python3.12/dist-packages (from rasterio) (0.7.2)\n",
            "Requirement already satisfied: numpy>=1.24 in /usr/local/lib/python3.12/dist-packages (from rasterio) (2.0.2)\n",
            "Requirement already satisfied: click-plugins in /usr/local/lib/python3.12/dist-packages (from rasterio) (1.1.1.2)\n",
            "Requirement already satisfied: pyparsing in /usr/local/lib/python3.12/dist-packages (from rasterio) (3.2.5)\n",
            "Requirement already satisfied: pyogrio>=0.7.2 in /usr/local/lib/python3.12/dist-packages (from geopandas) (0.11.1)\n",
            "Requirement already satisfied: packaging in /usr/local/lib/python3.12/dist-packages (from geopandas) (25.0)\n",
            "Requirement already satisfied: pandas>=2.0.0 in /usr/local/lib/python3.12/dist-packages (from geopandas) (2.2.2)\n",
            "Requirement already satisfied: python-dateutil>=2.8.2 in /usr/local/lib/python3.12/dist-packages (from pandas>=2.0.0->geopandas) (2.9.0.post0)\n",
            "Requirement already satisfied: pytz>=2020.1 in /usr/local/lib/python3.12/dist-packages (from pandas>=2.0.0->geopandas) (2025.2)\n",
            "Requirement already satisfied: tzdata>=2022.7 in /usr/local/lib/python3.12/dist-packages (from pandas>=2.0.0->geopandas) (2025.2)\n",
            "Requirement already satisfied: six>=1.5 in /usr/local/lib/python3.12/dist-packages (from python-dateutil>=2.8.2->pandas>=2.0.0->geopandas) (1.17.0)\n"
          ]
        }
      ],
      "source": [
        "! pip install rasterio shapely pyproj geopandas"
      ]
    },
    {
      "cell_type": "code",
      "source": [
        "import rasterio\n",
        "from rasterio.mask import mask\n",
        "from rasterio.warp import transform_geom\n",
        "import json\n",
        "from shapely.geometry import shape\n",
        "import os\n",
        "from datetime import datetime, timedelta\n",
        "import numpy as np\n",
        "from pyproj import Transformer\n",
        "import geopandas as gpd\n",
        "import pandas as pd\n",
        "from shapely.geometry import Point"
      ],
      "metadata": {
        "id": "0sUZU1zXD2-1"
      },
      "execution_count": null,
      "outputs": []
    },
    {
      "cell_type": "markdown",
      "source": [
        "# Constants"
      ],
      "metadata": {
        "id": "Qa5T3aX6FA5W"
      }
    },
    {
      "cell_type": "code",
      "source": [
        "polygon_file = \"/content/Kocaeli2024Data-request.json\"\n",
        "data_folder = \"/content/2024data\"\n",
        "MODIS_PARAMS = {\n",
        "    \"MCD12Q1.061\": {\n",
        "        \"scale\": 1,\n",
        "        \"offset\": 0,\n",
        "        \"unit_conversion\": lambda x: x,  # Categorical\n",
        "        \"nodata_mask\": lambda data: (data == 0) | (data == 255),\n",
        "        \"output_name\": \"LandCover_Type\",\n",
        "    },\n",
        "    \"MOD11A2.061\": {\n",
        "        \"scale\": 0.02,\n",
        "        \"offset\": 0,\n",
        "        \"unit_conversion\": lambda k: k - 273.15,  # Kelvin to Celsius\n",
        "        \"nodata_mask\": lambda data: (data <= 7500) | (data > 65535),\n",
        "        \"output_name\": \"LST_Celsius\",\n",
        "    },\n",
        "    \"MOD13A2.061\": {\n",
        "        \"scale\": 0.0001,\n",
        "        \"offset\": 0,\n",
        "        \"unit_conversion\": lambda x: x,\n",
        "        \"nodata_mask\": lambda data: data <= -2000,\n",
        "        \"output_name\": \"NDVI_Value\",\n",
        "    },\n",
        "    \"MOD17A3HGF.061\": {\n",
        "        \"scale\": 0.0001,\n",
        "        \"offset\": 0,\n",
        "        \"unit_conversion\": lambda x: x,\n",
        "        \"nodata_mask\": lambda data: data <= -3000,\n",
        "        \"output_name\": \"NPP_kgCm2perYear\",\n",
        "    },\n",
        "    \"MOD44B.061\": {\n",
        "        \"scale\": 1,\n",
        "        \"offset\": 0,\n",
        "        \"unit_conversion\": lambda x: x,\n",
        "        \"nodata_mask\": lambda data: (data == 200) | (data == 255),\n",
        "        \"output_name\": \"TreeCover_Percent\",\n",
        "    },\n",
        "}"
      ],
      "metadata": {
        "id": "OdBeJJ_rEQUk"
      },
      "execution_count": null,
      "outputs": []
    },
    {
      "cell_type": "markdown",
      "source": [
        "# Polygon Load"
      ],
      "metadata": {
        "id": "NzDJ5BFzFDMm"
      }
    },
    {
      "cell_type": "code",
      "source": [
        "print(\"Loading polygon from JSON...\")\n",
        "with open(polygon_file, \"r\") as f:\n",
        "    data = json.load(f)\n",
        "    features = data[\"params\"][\"geo\"][\"features\"]\n",
        "    polygon_geojson = features[0][\"geometry\"]\n",
        "    polygon = shape(polygon_geojson)"
      ],
      "metadata": {
        "colab": {
          "base_uri": "https://localhost:8080/"
        },
        "id": "qp5mqLXwD0Ic",
        "outputId": "ba76ec04-45ab-4eea-c9da-5cdf034b57eb"
      },
      "execution_count": null,
      "outputs": [
        {
          "output_type": "stream",
          "name": "stdout",
          "text": [
            "Loading polygon from JSON...\n"
          ]
        }
      ]
    },
    {
      "cell_type": "markdown",
      "source": [
        "# Data Init"
      ],
      "metadata": {
        "id": "yDmsior4FHRf"
      }
    },
    {
      "cell_type": "code",
      "source": [
        "data_files = []\n",
        "import os\n",
        "for file in os.listdir(data_folder):\n",
        "    if file.endswith(\".tif\"):\n",
        "        data_files.append(os.path.join(data_folder, file))\n",
        "\n",
        "quality_files = [i for i in data_files if \"QC\" in i]\n",
        "data_files = [x for x in data_files if x not in quality_files]\n",
        "\n",
        "print(data_files)\n",
        "print(quality_files)"
      ],
      "metadata": {
        "id": "FOEi2-naFct6",
        "colab": {
          "base_uri": "https://localhost:8080/"
        },
        "outputId": "3f3eb1e8-3af7-46bf-e986-f3d707885128"
      },
      "execution_count": null,
      "outputs": [
        {
          "output_type": "stream",
          "name": "stdout",
          "text": [
            "['/content/2024data/MOD11A2.061_LST_Day_1km_doy2024361000000_aid0001.tif', '/content/2024data/MOD13A2.061__1_km_16_days_NDVI_doy2024241000000_aid0001.tif', '/content/2024data/MOD16A2GF.061_ET_500m_doy2024273000000_aid0001.tif', '/content/2024data/MOD17A3HGF.061_Npp_500m_doy2024001000000_aid0001.tif', '/content/2024data/MOD11A2.061_LST_Night_1km_doy2024281000000_aid0001.tif', '/content/2024data/MOD11A2.061_LST_Day_1km_doy2024185000000_aid0001.tif', '/content/2024data/MOD16A2GF.061_ET_500m_doy2024089000000_aid0001.tif', '/content/2024data/MOD13A2.061__1_km_16_days_VI_Quality_doy2024001000000_aid0001.tif', '/content/2024data/MOD11A2.061_LST_Day_1km_doy2024153000000_aid0001.tif', '/content/2024data/MOD13A2.061__1_km_16_days_NDVI_doy2024289000000_aid0001.tif', '/content/2024data/MOD11A2.061_LST_Night_1km_doy2023361000000_aid0001.tif', '/content/2024data/MOD11A2.061_LST_Night_1km_doy2024169000000_aid0001.tif', '/content/2024data/MOD11A2.061_LST_Day_1km_doy2024233000000_aid0001.tif', '/content/2024data/MOD13A2.061__1_km_16_days_NDVI_doy2024305000000_aid0001.tif', '/content/2024data/MOD16A2GF.061_ET_500m_doy2024201000000_aid0001.tif', '/content/2024data/MOD16A2GF.061_ET_500m_doy2024329000000_aid0001.tif', '/content/2024data/MOD11A2.061_LST_Day_1km_doy2023361000000_aid0001.tif', '/content/2024data/MOD11A2.061_LST_Night_1km_doy2024217000000_aid0001.tif', '/content/2024data/MOD13A2.061__1_km_16_days_VI_Quality_doy2024305000000_aid0001.tif', '/content/2024data/MOD11A2.061_LST_Night_1km_doy2024137000000_aid0001.tif', '/content/2024data/MOD11A2.061_LST_Day_1km_doy2024345000000_aid0001.tif', '/content/2024data/MOD11A2.061_LST_Day_1km_doy2024241000000_aid0001.tif', '/content/2024data/MOD11A2.061_LST_Day_1km_doy2024257000000_aid0001.tif', '/content/2024data/MOD11A2.061_LST_Day_1km_doy2024201000000_aid0001.tif', '/content/2024data/MOD11A2.061_LST_Day_1km_doy2024281000000_aid0001.tif', '/content/2024data/MOD11A2.061_LST_Day_1km_doy2024193000000_aid0001.tif', '/content/2024data/MOD13A2.061__1_km_16_days_VI_Quality_doy2024049000000_aid0001.tif', '/content/2024data/MOD11A2.061_LST_Night_1km_doy2024257000000_aid0001.tif', '/content/2024data/MOD11A2.061_LST_Day_1km_doy2024265000000_aid0001.tif', '/content/2024data/MOD16A2GF.061_ET_500m_doy2024289000000_aid0001.tif', '/content/2024data/MOD13A2.061__1_km_16_days_VI_Quality_doy2024225000000_aid0001.tif', '/content/2024data/MOD11A2.061_LST_Day_1km_doy2024073000000_aid0001.tif', '/content/2024data/MOD11A2.061_LST_Night_1km_doy2024249000000_aid0001.tif', '/content/2024data/MOD11A2.061_LST_Day_1km_doy2024297000000_aid0001.tif', '/content/2024data/MOD11A2.061_LST_Day_1km_doy2024177000000_aid0001.tif', '/content/2024data/MOD16A2GF.061_ET_500m_doy2024049000000_aid0001.tif', '/content/2024data/MOD16A2GF.061_ET_500m_doy2024177000000_aid0001.tif', '/content/2024data/MOD44B.061_Quality_doy2024065000000_aid0001.tif', '/content/2024data/MOD11A2.061_LST_Day_1km_doy2024337000000_aid0001.tif', '/content/2024data/MOD16A2GF.061_ET_500m_doy2024105000000_aid0001.tif', '/content/2024data/MOD11A2.061_LST_Day_1km_doy2024217000000_aid0001.tif', '/content/2024data/MOD13A2.061__1_km_16_days_NDVI_doy2024129000000_aid0001.tif', '/content/2024data/MOD16A2GF.061_ET_500m_doy2024065000000_aid0001.tif', '/content/2024data/MOD16A2GF.061_ET_500m_doy2024161000000_aid0001.tif', '/content/2024data/MOD11A2.061_LST_Night_1km_doy2024017000000_aid0001.tif', '/content/2024data/MOD13A2.061__1_km_16_days_NDVI_doy2024097000000_aid0001.tif', '/content/2024data/MOD16A2GF.061_ET_500m_doy2024033000000_aid0001.tif', '/content/2024data/MOD16A2GF.061_ET_500m_doy2024265000000_aid0001.tif', '/content/2024data/MOD13A2.061__1_km_16_days_NDVI_doy2024017000000_aid0001.tif', '/content/2024data/MOD13A2.061__1_km_16_days_NDVI_doy2024081000000_aid0001.tif', '/content/2024data/MOD16A2GF.061_ET_500m_doy2024305000000_aid0001.tif', '/content/2024data/MOD13A2.061__1_km_16_days_VI_Quality_doy2024161000000_aid0001.tif', '/content/2024data/MCD12Q1.061_LC_Type1_doy2024001000000_aid0001.tif', '/content/2024data/MOD11A2.061_LST_Night_1km_doy2024081000000_aid0001.tif', '/content/2024data/MOD13A2.061__1_km_16_days_VI_Quality_doy2024097000000_aid0001.tif', '/content/2024data/MOD11A2.061_LST_Day_1km_doy2024225000000_aid0001.tif', '/content/2024data/MOD16A2GF.061_ET_500m_doy2024009000000_aid0001.tif', '/content/2024data/MOD16A2GF.061_ET_500m_doy2024153000000_aid0001.tif', '/content/2024data/MOD13A2.061__1_km_16_days_VI_Quality_doy2024257000000_aid0001.tif', '/content/2024data/MOD13A2.061__1_km_16_days_NDVI_doy2024145000000_aid0001.tif', '/content/2024data/MOD11A2.061_LST_Night_1km_doy2024353000000_aid0001.tif', '/content/2024data/MOD11A2.061_LST_Day_1km_doy2024057000000_aid0001.tif', '/content/2024data/MOD11A2.061_LST_Night_1km_doy2024041000000_aid0001.tif', '/content/2024data/MOD11A2.061_LST_Night_1km_doy2024177000000_aid0001.tif', '/content/2024data/MOD16A2GF.061_ET_500m_doy2024097000000_aid0001.tif', '/content/2024data/MOD11A2.061_LST_Night_1km_doy2024233000000_aid0001.tif', '/content/2024data/MOD13A2.061__1_km_16_days_VI_Quality_doy2024017000000_aid0001.tif', '/content/2024data/MOD11A2.061_LST_Night_1km_doy2024129000000_aid0001.tif', '/content/2024data/MOD16A2GF.061_ET_500m_doy2024081000000_aid0001.tif', '/content/2024data/MOD11A2.061_LST_Day_1km_doy2024033000000_aid0001.tif', '/content/2024data/MOD11A2.061_LST_Night_1km_doy2024241000000_aid0001.tif', '/content/2024data/MOD11A2.061_LST_Night_1km_doy2024073000000_aid0001.tif', '/content/2024data/MOD11A2.061_LST_Day_1km_doy2024121000000_aid0001.tif', '/content/2024data/MOD13A2.061__1_km_16_days_NDVI_doy2024257000000_aid0001.tif', '/content/2024data/MOD11A2.061_LST_Night_1km_doy2024105000000_aid0001.tif', '/content/2024data/MOD16A2GF.061_ET_500m_doy2023361000000_aid0001.tif', '/content/2024data/MOD11A2.061_LST_Day_1km_doy2024049000000_aid0001.tif', '/content/2024data/MOD16A2GF.061_ET_500m_doy2024361000000_aid0001.tif', '/content/2024data/MOD11A2.061_LST_Day_1km_doy2024129000000_aid0001.tif', '/content/2024data/MOD16A2GF.061_ET_500m_doy2024129000000_aid0001.tif', '/content/2024data/MOD11A2.061_LST_Night_1km_doy2024313000000_aid0001.tif', '/content/2024data/MOD13A2.061__1_km_16_days_NDVI_doy2024209000000_aid0001.tif', '/content/2024data/MOD11A2.061_LST_Day_1km_doy2024273000000_aid0001.tif', '/content/2024data/MOD16A2GF.061_ET_500m_doy2024193000000_aid0001.tif', '/content/2024data/MOD16A2GF.061_ET_500m_doy2024353000000_aid0001.tif', '/content/2024data/MOD11A2.061_LST_Day_1km_doy2024145000000_aid0001.tif', '/content/2024data/MOD13A2.061__1_km_16_days_VI_Quality_doy2024081000000_aid0001.tif', '/content/2024data/MOD11A2.061_LST_Night_1km_doy2024201000000_aid0001.tif', '/content/2024data/MOD13A2.061__1_km_16_days_NDVI_doy2024033000000_aid0001.tif', '/content/2024data/MOD13A2.061__1_km_16_days_NDVI_doy2024177000000_aid0001.tif', '/content/2024data/MOD16A2GF.061_ET_500m_doy2024337000000_aid0001.tif', '/content/2024data/MOD11A2.061_LST_Night_1km_doy2024153000000_aid0001.tif', '/content/2024data/MOD11A2.061_LST_Night_1km_doy2024161000000_aid0001.tif', '/content/2024data/MOD11A2.061_LST_Night_1km_doy2024193000000_aid0001.tif', '/content/2024data/MOD11A2.061_LST_Day_1km_doy2024081000000_aid0001.tif', '/content/2024data/MOD11A2.061_LST_Day_1km_doy2024305000000_aid0001.tif', '/content/2024data/MOD11A2.061_LST_Night_1km_doy2024065000000_aid0001.tif', '/content/2024data/MOD11A2.061_LST_Day_1km_doy2024041000000_aid0001.tif', '/content/2024data/MOD16A2GF.061_ET_500m_doy2024297000000_aid0001.tif', '/content/2024data/MOD13A2.061__1_km_16_days_VI_Quality_doy2024177000000_aid0001.tif', '/content/2024data/MOD11A2.061_LST_Day_1km_doy2024321000000_aid0001.tif', '/content/2024data/MOD11A2.061_LST_Day_1km_doy2024289000000_aid0001.tif', '/content/2024data/MOD13A2.061__1_km_16_days_NDVI_doy2024161000000_aid0001.tif', '/content/2024data/MOD16A2GF.061_ET_500m_doy2024057000000_aid0001.tif', '/content/2024data/MOD13A2.061__1_km_16_days_VI_Quality_doy2024033000000_aid0001.tif', '/content/2024data/MOD11A2.061_LST_Night_1km_doy2024209000000_aid0001.tif', '/content/2024data/MOD13A2.061__1_km_16_days_VI_Quality_doy2024353000000_aid0001.tif', '/content/2024data/MOD11A2.061_LST_Day_1km_doy2024161000000_aid0001.tif', '/content/2024data/MOD11A2.061_LST_Day_1km_doy2024209000000_aid0001.tif', '/content/2024data/MOD11A2.061_LST_Day_1km_doy2024329000000_aid0001.tif', '/content/2024data/MOD16A2GF.061_ET_500m_doy2024217000000_aid0001.tif', '/content/2024data/MOD13A2.061__1_km_16_days_VI_Quality_doy2024145000000_aid0001.tif', '/content/2024data/MOD16A2GF.061_ET_500m_doy2024281000000_aid0001.tif', '/content/2024data/MOD13A2.061__1_km_16_days_VI_Quality_doy2024289000000_aid0001.tif', '/content/2024data/MOD11A2.061_LST_Night_1km_doy2024305000000_aid0001.tif', '/content/2024data/MOD16A2GF.061_ET_500m_doy2024225000000_aid0001.tif', '/content/2024data/MOD16A2GF.061_ET_500m_doy2024073000000_aid0001.tif', '/content/2024data/MOD13A2.061__1_km_16_days_NDVI_doy2024001000000_aid0001.tif', '/content/2024data/MOD11A2.061_LST_Day_1km_doy2024089000000_aid0001.tif', '/content/2024data/MOD13A2.061__1_km_16_days_NDVI_doy2024065000000_aid0001.tif', '/content/2024data/MOD13A2.061__1_km_16_days_VI_Quality_doy2024209000000_aid0001.tif', '/content/2024data/MOD16A2GF.061_ET_500m_doy2024025000000_aid0001.tif', '/content/2024data/MOD13A2.061__1_km_16_days_VI_Quality_doy2024113000000_aid0001.tif', '/content/2024data/MOD16A2GF.061_ET_500m_doy2024345000000_aid0001.tif', '/content/2024data/MOD11A2.061_LST_Day_1km_doy2024009000000_aid0001.tif', '/content/2024data/MOD16A2GF.061_ET_500m_doy2024001000000_aid0001.tif', '/content/2024data/MOD16A2GF.061_ET_500m_doy2024145000000_aid0001.tif', '/content/2024data/MOD11A2.061_LST_Night_1km_doy2024337000000_aid0001.tif', '/content/2024data/MOD11A2.061_LST_Night_1km_doy2024025000000_aid0001.tif', '/content/2024data/MOD13A2.061__1_km_16_days_VI_Quality_doy2024065000000_aid0001.tif', '/content/2024data/MOD16A2GF.061_ET_500m_doy2024209000000_aid0001.tif', '/content/2024data/MOD11A2.061_LST_Night_1km_doy2024097000000_aid0001.tif', '/content/2024data/MOD13A2.061__1_km_16_days_VI_Quality_doy2024193000000_aid0001.tif', '/content/2024data/MOD16A2GF.061_ET_500m_doy2024169000000_aid0001.tif', '/content/2024data/MOD16A2GF.061_ET_500m_doy2024041000000_aid0001.tif', '/content/2024data/MOD13A2.061__1_km_16_days_NDVI_doy2024337000000_aid0001.tif', '/content/2024data/MOD11A2.061_LST_Night_1km_doy2024297000000_aid0001.tif', '/content/2024data/MOD13A2.061__1_km_16_days_NDVI_doy2023353000000_aid0001.tif', '/content/2024data/MOD16A2GF.061_ET_500m_doy2024241000000_aid0001.tif', '/content/2024data/MOD11A2.061_LST_Night_1km_doy2024345000000_aid0001.tif', '/content/2024data/MOD11A2.061_LST_Day_1km_doy2024137000000_aid0001.tif', '/content/2024data/MOD44B.061_Percent_Tree_Cover_doy2024065000000_aid0001.tif', '/content/2024data/MOD16A2GF.061_ET_500m_doy2024233000000_aid0001.tif', '/content/2024data/MOD13A2.061__1_km_16_days_NDVI_doy2024193000000_aid0001.tif', '/content/2024data/MOD13A2.061__1_km_16_days_NDVI_doy2024273000000_aid0001.tif', '/content/2024data/MOD16A2GF.061_ET_500m_doy2024137000000_aid0001.tif', '/content/2024data/MOD16A2GF.061_ET_500m_doy2024313000000_aid0001.tif', '/content/2024data/MOD11A2.061_LST_Night_1km_doy2024329000000_aid0001.tif', '/content/2024data/MOD13A2.061__1_km_16_days_NDVI_doy2024113000000_aid0001.tif', '/content/2024data/MOD16A2GF.061_ET_500m_doy2024185000000_aid0001.tif', '/content/2024data/MOD16A2GF.061_ET_500m_doy2024321000000_aid0001.tif', '/content/2024data/MOD11A2.061_LST_Day_1km_doy2024113000000_aid0001.tif', '/content/2024data/MOD13A2.061__1_km_16_days_VI_Quality_doy2023353000000_aid0001.tif', '/content/2024data/MOD16A2GF.061_ET_500m_doy2024249000000_aid0001.tif', '/content/2024data/MOD13A2.061__1_km_16_days_VI_Quality_doy2024241000000_aid0001.tif', '/content/2024data/MOD16A2GF.061_ET_500m_doy2024257000000_aid0001.tif', '/content/2024data/MOD11A2.061_LST_Day_1km_doy2024353000000_aid0001.tif', '/content/2024data/MOD11A2.061_LST_Night_1km_doy2024057000000_aid0001.tif', '/content/2024data/MOD11A2.061_LST_Day_1km_doy2024097000000_aid0001.tif', '/content/2024data/MOD13A2.061__1_km_16_days_NDVI_doy2024321000000_aid0001.tif', '/content/2024data/MOD11A2.061_LST_Day_1km_doy2024025000000_aid0001.tif', '/content/2024data/MOD16A2GF.061_ET_500m_doy2024017000000_aid0001.tif', '/content/2024data/MOD13A2.061__1_km_16_days_NDVI_doy2024225000000_aid0001.tif', '/content/2024data/MOD11A2.061_LST_Night_1km_doy2024361000000_aid0001.tif', '/content/2024data/MOD13A2.061__1_km_16_days_VI_Quality_doy2024321000000_aid0001.tif', '/content/2024data/MOD11A2.061_LST_Day_1km_doy2024169000000_aid0001.tif', '/content/2024data/MOD11A2.061_LST_Day_1km_doy2024105000000_aid0001.tif', '/content/2024data/MOD11A2.061_LST_Night_1km_doy2024273000000_aid0001.tif', '/content/2024data/MOD11A2.061_LST_Night_1km_doy2024089000000_aid0001.tif', '/content/2024data/MOD13A2.061__1_km_16_days_VI_Quality_doy2024129000000_aid0001.tif', '/content/2024data/MOD16A2GF.061_ET_500m_doy2024113000000_aid0001.tif', '/content/2024data/MOD13A2.061__1_km_16_days_NDVI_doy2024049000000_aid0001.tif', '/content/2024data/MOD11A2.061_LST_Day_1km_doy2024313000000_aid0001.tif', '/content/2024data/MOD11A2.061_LST_Night_1km_doy2024033000000_aid0001.tif', '/content/2024data/MOD13A2.061__1_km_16_days_VI_Quality_doy2024273000000_aid0001.tif', '/content/2024data/MOD11A2.061_LST_Night_1km_doy2024049000000_aid0001.tif', '/content/2024data/MOD11A2.061_LST_Night_1km_doy2024145000000_aid0001.tif', '/content/2024data/MOD11A2.061_LST_Day_1km_doy2024249000000_aid0001.tif', '/content/2024data/MOD13A2.061__1_km_16_days_VI_Quality_doy2024337000000_aid0001.tif', '/content/2024data/MOD11A2.061_LST_Day_1km_doy2024065000000_aid0001.tif', '/content/2024data/MOD16A2GF.061_ET_500m_doy2024121000000_aid0001.tif', '/content/2024data/MOD11A2.061_LST_Night_1km_doy2024185000000_aid0001.tif', '/content/2024data/MOD11A2.061_LST_Day_1km_doy2024001000000_aid0001.tif', '/content/2024data/MOD11A2.061_LST_Day_1km_doy2024017000000_aid0001.tif', '/content/2024data/MOD11A2.061_LST_Night_1km_doy2024289000000_aid0001.tif', '/content/2024data/MOD13A2.061__1_km_16_days_NDVI_doy2024353000000_aid0001.tif', '/content/2024data/MOD44B.061_Cloud_doy2024065000000_aid0001.tif', '/content/2024data/MOD11A2.061_LST_Night_1km_doy2024225000000_aid0001.tif', '/content/2024data/MOD11A2.061_LST_Night_1km_doy2024001000000_aid0001.tif', '/content/2024data/MOD11A2.061_LST_Night_1km_doy2024321000000_aid0001.tif', '/content/2024data/MOD11A2.061_LST_Night_1km_doy2024009000000_aid0001.tif', '/content/2024data/MOD11A2.061_LST_Night_1km_doy2024113000000_aid0001.tif', '/content/2024data/MOD11A2.061_LST_Night_1km_doy2024121000000_aid0001.tif', '/content/2024data/MOD11A2.061_LST_Night_1km_doy2024265000000_aid0001.tif']\n",
            "['/content/2024data/MOD11A2.061_QC_Day_doy2024097000000_aid0001.tif', '/content/2024data/MOD16A2GF.061_ET_QC_500m_doy2024265000000_aid0001.tif', '/content/2024data/MOD11A2.061_QC_Day_doy2024041000000_aid0001.tif', '/content/2024data/MOD11A2.061_QC_Night_doy2024313000000_aid0001.tif', '/content/2024data/MOD11A2.061_QC_Day_doy2024345000000_aid0001.tif', '/content/2024data/MOD16A2GF.061_ET_QC_500m_doy2024073000000_aid0001.tif', '/content/2024data/MOD11A2.061_QC_Day_doy2024193000000_aid0001.tif', '/content/2024data/MOD16A2GF.061_ET_QC_500m_doy2024081000000_aid0001.tif', '/content/2024data/MOD16A2GF.061_ET_QC_500m_doy2024121000000_aid0001.tif', '/content/2024data/MOD16A2GF.061_ET_QC_500m_doy2024305000000_aid0001.tif', '/content/2024data/MOD16A2GF.061_ET_QC_500m_doy2024009000000_aid0001.tif', '/content/2024data/MOD11A2.061_QC_Day_doy2024105000000_aid0001.tif', '/content/2024data/MOD11A2.061_QC_Night_doy2024257000000_aid0001.tif', '/content/2024data/MOD16A2GF.061_ET_QC_500m_doy2024017000000_aid0001.tif', '/content/2024data/MOD11A2.061_QC_Day_doy2024177000000_aid0001.tif', '/content/2024data/MOD11A2.061_QC_Day_doy2024161000000_aid0001.tif', '/content/2024data/MOD11A2.061_QC_Night_doy2024273000000_aid0001.tif', '/content/2024data/MOD11A2.061_QC_Night_doy2024161000000_aid0001.tif', '/content/2024data/MOD11A2.061_QC_Night_doy2024193000000_aid0001.tif', '/content/2024data/MOD16A2GF.061_ET_QC_500m_doy2024185000000_aid0001.tif', '/content/2024data/MOD16A2GF.061_ET_QC_500m_doy2024281000000_aid0001.tif', '/content/2024data/MOD11A2.061_QC_Night_doy2024241000000_aid0001.tif', '/content/2024data/MOD11A2.061_QC_Night_doy2024249000000_aid0001.tif', '/content/2024data/MOD11A2.061_QC_Day_doy2024073000000_aid0001.tif', '/content/2024data/MOD11A2.061_QC_Night_doy2024281000000_aid0001.tif', '/content/2024data/MOD11A2.061_QC_Night_doy2024169000000_aid0001.tif', '/content/2024data/MOD16A2GF.061_ET_QC_500m_doy2024057000000_aid0001.tif', '/content/2024data/MOD11A2.061_QC_Day_doy2024273000000_aid0001.tif', '/content/2024data/MOD16A2GF.061_ET_QC_500m_doy2024289000000_aid0001.tif', '/content/2024data/MOD16A2GF.061_ET_QC_500m_doy2024361000000_aid0001.tif', '/content/2024data/MOD16A2GF.061_ET_QC_500m_doy2024089000000_aid0001.tif', '/content/2024data/MOD11A2.061_QC_Day_doy2024137000000_aid0001.tif', '/content/2024data/MOD11A2.061_QC_Day_doy2024001000000_aid0001.tif', '/content/2024data/MOD11A2.061_QC_Night_doy2024265000000_aid0001.tif', '/content/2024data/MOD16A2GF.061_ET_QC_500m_doy2024201000000_aid0001.tif', '/content/2024data/MOD11A2.061_QC_Day_doy2024057000000_aid0001.tif', '/content/2024data/MOD11A2.061_QC_Night_doy2024105000000_aid0001.tif', '/content/2024data/MOD11A2.061_QC_Night_doy2024353000000_aid0001.tif', '/content/2024data/MOD11A2.061_QC_Night_doy2024289000000_aid0001.tif', '/content/2024data/MOD11A2.061_QC_Day_doy2024313000000_aid0001.tif', '/content/2024data/MOD11A2.061_QC_Night_doy2024225000000_aid0001.tif', '/content/2024data/MOD11A2.061_QC_Day_doy2024009000000_aid0001.tif', '/content/2024data/MOD16A2GF.061_ET_QC_500m_doy2024217000000_aid0001.tif', '/content/2024data/MOD16A2GF.061_ET_QC_500m_doy2024065000000_aid0001.tif', '/content/2024data/MOD16A2GF.061_ET_QC_500m_doy2024225000000_aid0001.tif', '/content/2024data/MOD16A2GF.061_ET_QC_500m_doy2024129000000_aid0001.tif', '/content/2024data/MOD11A2.061_QC_Night_doy2024113000000_aid0001.tif', '/content/2024data/MOD11A2.061_QC_Day_doy2024129000000_aid0001.tif', '/content/2024data/MOD11A2.061_QC_Night_doy2024201000000_aid0001.tif', '/content/2024data/MOD16A2GF.061_ET_QC_500m_doy2024105000000_aid0001.tif', '/content/2024data/MOD16A2GF.061_ET_QC_500m_doy2024297000000_aid0001.tif', '/content/2024data/MOD11A2.061_QC_Day_doy2024329000000_aid0001.tif', '/content/2024data/MOD16A2GF.061_ET_QC_500m_doy2024177000000_aid0001.tif', '/content/2024data/MOD11A2.061_QC_Day_doy2024265000000_aid0001.tif', '/content/2024data/MOD11A2.061_QC_Night_doy2023361000000_aid0001.tif', '/content/2024data/MOD11A2.061_QC_Day_doy2024257000000_aid0001.tif', '/content/2024data/MOD11A2.061_QC_Night_doy2024233000000_aid0001.tif', '/content/2024data/MOD16A2GF.061_ET_QC_500m_doy2024209000000_aid0001.tif', '/content/2024data/MOD11A2.061_QC_Night_doy2024329000000_aid0001.tif', '/content/2024data/MOD16A2GF.061_ET_QC_500m_doy2024257000000_aid0001.tif', '/content/2024data/MOD16A2GF.061_ET_QC_500m_doy2024041000000_aid0001.tif', '/content/2024data/MOD16A2GF.061_ET_QC_500m_doy2024049000000_aid0001.tif', '/content/2024data/MOD11A2.061_QC_Night_doy2024033000000_aid0001.tif', '/content/2024data/MOD16A2GF.061_ET_QC_500m_doy2024329000000_aid0001.tif', '/content/2024data/MOD11A2.061_QC_Night_doy2024361000000_aid0001.tif', '/content/2024data/MOD11A2.061_QC_Night_doy2024017000000_aid0001.tif', '/content/2024data/MOD11A2.061_QC_Night_doy2024337000000_aid0001.tif', '/content/2024data/MOD11A2.061_QC_Night_doy2024065000000_aid0001.tif', '/content/2024data/MOD11A2.061_QC_Day_doy2024153000000_aid0001.tif', '/content/2024data/MOD16A2GF.061_ET_QC_500m_doy2024313000000_aid0001.tif', '/content/2024data/MOD16A2GF.061_ET_QC_500m_doy2024233000000_aid0001.tif', '/content/2024data/MCD12Q1.061_QC_doy2024001000000_aid0001.tif', '/content/2024data/MOD11A2.061_QC_Day_doy2024081000000_aid0001.tif', '/content/2024data/MOD16A2GF.061_ET_QC_500m_doy2024025000000_aid0001.tif', '/content/2024data/MOD11A2.061_QC_Day_doy2024121000000_aid0001.tif', '/content/2024data/MOD11A2.061_QC_Day_doy2024201000000_aid0001.tif', '/content/2024data/MOD16A2GF.061_ET_QC_500m_doy2024169000000_aid0001.tif', '/content/2024data/MOD11A2.061_QC_Day_doy2024225000000_aid0001.tif', '/content/2024data/MOD11A2.061_QC_Day_doy2024025000000_aid0001.tif', '/content/2024data/MOD11A2.061_QC_Night_doy2024345000000_aid0001.tif', '/content/2024data/MOD11A2.061_QC_Night_doy2024025000000_aid0001.tif', '/content/2024data/MOD11A2.061_QC_Night_doy2024217000000_aid0001.tif', '/content/2024data/MOD11A2.061_QC_Day_doy2024249000000_aid0001.tif', '/content/2024data/MOD11A2.061_QC_Day_doy2024321000000_aid0001.tif', '/content/2024data/MOD11A2.061_QC_Night_doy2024145000000_aid0001.tif', '/content/2024data/MOD16A2GF.061_ET_QC_500m_doy2024193000000_aid0001.tif', '/content/2024data/MOD11A2.061_QC_Day_doy2024033000000_aid0001.tif', '/content/2024data/MOD11A2.061_QC_Day_doy2024241000000_aid0001.tif', '/content/2024data/MOD11A2.061_QC_Night_doy2024097000000_aid0001.tif', '/content/2024data/MOD11A2.061_QC_Night_doy2024321000000_aid0001.tif', '/content/2024data/MOD11A2.061_QC_Night_doy2024305000000_aid0001.tif', '/content/2024data/MOD11A2.061_QC_Night_doy2024137000000_aid0001.tif', '/content/2024data/MOD16A2GF.061_ET_QC_500m_doy2024345000000_aid0001.tif', '/content/2024data/MOD16A2GF.061_ET_QC_500m_doy2024273000000_aid0001.tif', '/content/2024data/MOD11A2.061_QC_Night_doy2024001000000_aid0001.tif', '/content/2024data/MOD11A2.061_QC_Day_doy2024217000000_aid0001.tif', '/content/2024data/MOD11A2.061_QC_Night_doy2024121000000_aid0001.tif', '/content/2024data/MOD16A2GF.061_ET_QC_500m_doy2024241000000_aid0001.tif', '/content/2024data/MOD11A2.061_QC_Night_doy2024089000000_aid0001.tif', '/content/2024data/MOD11A2.061_QC_Day_doy2024361000000_aid0001.tif', '/content/2024data/MOD11A2.061_QC_Night_doy2024073000000_aid0001.tif', '/content/2024data/MOD16A2GF.061_ET_QC_500m_doy2024033000000_aid0001.tif', '/content/2024data/MOD11A2.061_QC_Day_doy2024209000000_aid0001.tif', '/content/2024data/MOD17A3HGF.061_Npp_QC_500m_doy2024001000000_aid0001.tif', '/content/2024data/MOD11A2.061_QC_Day_doy2024065000000_aid0001.tif', '/content/2024data/MOD11A2.061_QC_Day_doy2024289000000_aid0001.tif', '/content/2024data/MOD11A2.061_QC_Day_doy2024089000000_aid0001.tif', '/content/2024data/MOD11A2.061_QC_Day_doy2024233000000_aid0001.tif', '/content/2024data/MOD16A2GF.061_ET_QC_500m_doy2024161000000_aid0001.tif', '/content/2024data/MOD11A2.061_QC_Night_doy2024185000000_aid0001.tif', '/content/2024data/MOD11A2.061_QC_Night_doy2024081000000_aid0001.tif', '/content/2024data/MOD11A2.061_QC_Night_doy2024009000000_aid0001.tif', '/content/2024data/MOD11A2.061_QC_Day_doy2024337000000_aid0001.tif', '/content/2024data/MOD16A2GF.061_ET_QC_500m_doy2024321000000_aid0001.tif', '/content/2024data/MOD16A2GF.061_ET_QC_500m_doy2024153000000_aid0001.tif', '/content/2024data/MOD16A2GF.061_ET_QC_500m_doy2024001000000_aid0001.tif', '/content/2024data/MOD16A2GF.061_ET_QC_500m_doy2024249000000_aid0001.tif', '/content/2024data/MOD11A2.061_QC_Day_doy2024297000000_aid0001.tif', '/content/2024data/MOD16A2GF.061_ET_QC_500m_doy2024337000000_aid0001.tif', '/content/2024data/MOD11A2.061_QC_Night_doy2024057000000_aid0001.tif', '/content/2024data/MOD11A2.061_QC_Night_doy2024041000000_aid0001.tif', '/content/2024data/MOD11A2.061_QC_Night_doy2024177000000_aid0001.tif', '/content/2024data/MOD16A2GF.061_ET_QC_500m_doy2024113000000_aid0001.tif', '/content/2024data/MOD16A2GF.061_ET_QC_500m_doy2024137000000_aid0001.tif', '/content/2024data/MOD11A2.061_QC_Night_doy2024297000000_aid0001.tif', '/content/2024data/MOD16A2GF.061_ET_QC_500m_doy2024145000000_aid0001.tif', '/content/2024data/MOD11A2.061_QC_Day_doy2024113000000_aid0001.tif', '/content/2024data/MOD11A2.061_QC_Night_doy2024049000000_aid0001.tif', '/content/2024data/MOD11A2.061_QC_Day_doy2023361000000_aid0001.tif', '/content/2024data/MOD11A2.061_QC_Day_doy2024185000000_aid0001.tif', '/content/2024data/MOD11A2.061_QC_Day_doy2024353000000_aid0001.tif', '/content/2024data/MOD11A2.061_QC_Day_doy2024017000000_aid0001.tif', '/content/2024data/MOD11A2.061_QC_Day_doy2024305000000_aid0001.tif', '/content/2024data/MOD16A2GF.061_ET_QC_500m_doy2023361000000_aid0001.tif', '/content/2024data/MOD11A2.061_QC_Day_doy2024169000000_aid0001.tif', '/content/2024data/MOD11A2.061_QC_Day_doy2024049000000_aid0001.tif', '/content/2024data/MOD11A2.061_QC_Night_doy2024129000000_aid0001.tif', '/content/2024data/MOD11A2.061_QC_Day_doy2024281000000_aid0001.tif', '/content/2024data/MOD11A2.061_QC_Night_doy2024153000000_aid0001.tif', '/content/2024data/MOD11A2.061_QC_Night_doy2024209000000_aid0001.tif', '/content/2024data/MOD16A2GF.061_ET_QC_500m_doy2024353000000_aid0001.tif', '/content/2024data/MOD16A2GF.061_ET_QC_500m_doy2024097000000_aid0001.tif', '/content/2024data/MOD11A2.061_QC_Day_doy2024145000000_aid0001.tif']\n"
          ]
        }
      ]
    },
    {
      "cell_type": "markdown",
      "source": [
        "# Data Load"
      ],
      "metadata": {
        "id": "WB8VrhDNekrp"
      }
    },
    {
      "cell_type": "code",
      "source": [
        "def load_modis_tif(filepath, catalogue, date):\n",
        "    params = MODIS_PARAMS[catalogue]\n",
        "    output_name = params[\"output_name\"]\n",
        "\n",
        "    with rasterio.open(filepath) as src:\n",
        "        data = src.read(1)\n",
        "        transform = src.transform\n",
        "        height, width = data.shape\n",
        "\n",
        "        cols, rows = np.meshgrid(np.arange(width), np.arange(height))\n",
        "        lon, lat = rasterio.transform.xy(transform, rows, cols)\n",
        "        lon = np.array(lon)\n",
        "        lat = np.array(lat)\n",
        "\n",
        "        data_scaled = data * params[\"scale\"] + params[\"offset\"]\n",
        "        data_converted = params[\"unit_conversion\"](data_scaled)\n",
        "        nodata_mask = params[\"nodata_mask\"](data)\n",
        "\n",
        "        lon_flat = lon.flatten()\n",
        "        lat_flat = lat.flatten()\n",
        "        data_flat = data_converted.flatten()\n",
        "        mask_flat = nodata_mask.flatten()\n",
        "\n",
        "        valid_idx = ~mask_flat\n",
        "\n",
        "        df = pd.DataFrame({\n",
        "            'date': date,\n",
        "            'longitude': lon_flat[valid_idx],\n",
        "            'latitude': lat_flat[valid_idx],\n",
        "            output_name: data_flat[valid_idx]\n",
        "        })\n",
        "\n",
        "        return df"
      ],
      "metadata": {
        "id": "2sCQRB3semdj"
      },
      "execution_count": null,
      "outputs": []
    },
    {
      "cell_type": "code",
      "source": [
        "all_landcover_dfs = []\n",
        "all_lst_dfs = []\n",
        "all_ndvi_dfs = []\n",
        "all_npp_dfs = []\n",
        "all_treecover_dfs = []\n",
        "all_dfs = {}"
      ],
      "metadata": {
        "id": "JG8lbMsfgRgF"
      },
      "execution_count": null,
      "outputs": []
    },
    {
      "cell_type": "code",
      "source": [
        "data_dict = {}\n",
        "\n",
        "for data_path in data_files:\n",
        "  parsed = data_path.replace(\"/content/2024data/\", \"\")\n",
        "  parsed = parsed.split(\"_\", maxsplit=1)\n",
        "  catalogue = parsed[0]\n",
        "\n",
        "  rdat = parsed[1].rsplit(\"_\", maxsplit=2)\n",
        "  layer, date = rdat[0], rdat[1]\n",
        "\n",
        "  date = date.replace(\"doy\", \"\")\n",
        "  year, doy = int(date[:4]), int(date[4:7])\n",
        "  date = str((datetime(year, 1, 1) + timedelta(doy - 1)).date())\n",
        "\n",
        "  data_dict.setdefault(catalogue, {}).setdefault(layer, {}).setdefault(date, {})\n",
        "\n",
        "  output_name = MODIS_PARAMS[catalogue][\"output_name\"]\n",
        "  df = load_modis_tif(data_path, catalogue, date)\n",
        "  if output_name == \"LST_Celsius\":\n",
        "    all_lst_dfs.append(df)\n",
        "  elif output_name == \"LandCover_Type\":\n",
        "    all_landcover_dfs.append(df)\n",
        "  elif output_name == \"NDVI_Value\":\n",
        "    all_ndvi_dfs.append(df)\n",
        "  elif output_name == \"NPP_kgCm2perYear\":\n",
        "    all_npp_dfs.append(df)\n",
        "  elif output_name == \"TreeCover_Percent\":\n",
        "    all_treecover_dfs.append(df)\n",
        "\n",
        "all_dfs = {\"LST\": all_lst_dfs, \"LandCover\": all_landcover_dfs, \"NDVI\": all_ndvi_dfs, \"NPP\": all_npp_dfs, \"TreeCover\": all_treecover_dfs}\n",
        "\n",
        "for k in all_dfs:\n",
        "  if all_dfs[k]:\n",
        "    full_df = pd.concat(all_dfs[k], ignore_index=True)\n",
        "    full_df.to_csv(f\"all_{k}_data.csv\", index=False)"
      ],
      "metadata": {
        "id": "jpKBlyDcmsKi"
      },
      "execution_count": null,
      "outputs": []
    },
    {
      "cell_type": "code",
      "source": [
        "csv_file = 'formulization_data_final.csv'\n",
        "\n",
        "if not os.path.exists(csv_file):\n",
        "    print(f\"ERROR: File '{csv_file}' not found!\")\n",
        "    exit()\n",
        "try:\n",
        "    df = pd.read_csv(csv_file)\n",
        "    print(f\"Dataset loaded successfully. Total rows: {len(df)}\")\n",
        "except Exception as e:\n",
        "    print(f\"ERROR: An error occurred while reading the file: {e}\")\n",
        "    exit()\n",
        "\n",
        "required_cols = ['LandCover_Type', 'TreeCover_Percent', 'LST_Celsius', 'NDVI_Value', 'NPP_kgCm2perYear', 'latitude', 'longitude']\n",
        "missing_cols = [col for col in required_cols if col not in df.columns]\n",
        "if missing_cols:\n",
        "    print(f\"ERROR: Missing columns: {missing_cols}\")\n",
        "    exit()"
      ],
      "metadata": {
        "id": "bZw3Uljgx967",
        "colab": {
          "base_uri": "https://localhost:8080/"
        },
        "outputId": "fb05c12e-d4de-4936-d53a-8c0c948fae8d"
      },
      "execution_count": null,
      "outputs": [
        {
          "output_type": "stream",
          "name": "stdout",
          "text": [
            "Dataset loaded successfully. Total rows: 180480\n"
          ]
        }
      ]
    },
    {
      "cell_type": "markdown",
      "source": [
        "# Normalization and Methodology"
      ],
      "metadata": {
        "id": "hy7uPu5drEBa"
      }
    },
    {
      "cell_type": "code",
      "source": [
        "suitable_land_types = [10, 12, 14]\n",
        "\n",
        "is_suitable_land = df['LandCover_Type'].isin(suitable_land_types)\n",
        "is_low_tree_cover = df['TreeCover_Percent'] < 60\n",
        "has_no_nan = df[required_cols].notna().all(axis=1)\n",
        "\n",
        "suitable_mask = is_suitable_land & is_low_tree_cover & has_no_nan\n",
        "\n",
        "print(f\"Number of suitable points found to be scored: {suitable_mask.sum()}\")\n",
        "\n",
        "df['suitability_score'] = 0.0\n",
        "\n",
        "if suitable_mask.sum() > 0:\n",
        "    # Normalization\n",
        "    norm_cols = ['LST_Celsius', 'NDVI_Value', 'NPP_kgCm2perYear', 'TreeCover_Percent']\n",
        "\n",
        "    for col in norm_cols:\n",
        "        min_val = df.loc[suitable_mask, col].min()\n",
        "        max_val = df.loc[suitable_mask, col].max()\n",
        "\n",
        "        if (max_val - min_val) > 0:\n",
        "            df.loc[suitable_mask, f'{col}_norm'] = (df.loc[suitable_mask, col] - min_val) / (max_val - min_val)\n",
        "        else:\n",
        "            df.loc[suitable_mask, f'{col}_norm'] = 0.5\n",
        "            print(f\"Warning: All values for {col} are the same, a value of 0.5 has been assigned.\")\n",
        "\n",
        "    # Methodology\n",
        "    weights = {\n",
        "        'LST': 0.40,\n",
        "        'NDVI': 0.20,\n",
        "        'NPP': 0.20,\n",
        "        'TreeCover': 0.20\n",
        "    }\n",
        "\n",
        "    df.loc[suitable_mask, 'suitability_score'] = (\n",
        "        weights['LST'] * df.loc[suitable_mask, 'LST_Celsius_norm'] +\n",
        "        weights['NDVI'] * df.loc[suitable_mask, 'NDVI_Value_norm'] +\n",
        "        weights['NPP'] * df.loc[suitable_mask, 'NPP_kgCm2perYear_norm'] +\n",
        "        weights['TreeCover'] * (1 - df.loc[suitable_mask, 'TreeCover_Percent_norm'])\n",
        "    )\n",
        "\n",
        "\n",
        "results = df.sort_values(by='suitability_score', ascending=False)"
      ],
      "metadata": {
        "id": "IlPeUTsYqhVB",
        "colab": {
          "base_uri": "https://localhost:8080/"
        },
        "outputId": "ec154b63-879d-48f9-8961-2557d477f8be"
      },
      "execution_count": null,
      "outputs": [
        {
          "output_type": "stream",
          "name": "stdout",
          "text": [
            "Number of suitable points found to be scored: 58740\n"
          ]
        }
      ]
    },
    {
      "cell_type": "markdown",
      "source": [
        "# Final"
      ],
      "metadata": {
        "id": "zbPun1iLrQ6O"
      }
    },
    {
      "cell_type": "code",
      "source": [
        "output_cols = ['latitude', 'longitude', 'suitability_score']\n",
        "if 'date' in df.columns or 'Date' in df.columns:\n",
        "    date_col = 'date' if 'date' in df.columns else 'Date'\n",
        "    results.rename(columns={date_col: 'date'}, inplace=True)\n",
        "    output_cols = ['date'] + output_cols\n",
        "\n",
        "final_locations = results[output_cols].copy()\n",
        "\n",
        "final_locations['suitability_score'] = (final_locations['suitability_score'] * 100).round(2)\n",
        "\n",
        "print(f\"Top {min(10, len(final_locations))} most suitable locations for tree planting:\")\n",
        "print(final_locations.head(10))\n",
        "\n",
        "print(\"Some example locations with a score of 0:\")\n",
        "print(final_locations[final_locations['suitability_score'] == 0].head(5))\n",
        "\n",
        "output_file = 'tree_analysis.csv'\n",
        "try:\n",
        "    final_locations.to_csv(output_file, index=False, encoding='utf-8')\n",
        "\n",
        "    print(f\"Results have been saved to '{output_file}'.\")\n",
        "    print(f\"  A total of {len(final_locations)} points were written to the file (including unsuitable ones).\")\n",
        "except Exception as e:\n",
        "    print(f\"ERROR: Could not save the CSV file: {e}\")"
      ],
      "metadata": {
        "id": "eKsBxDNfq2n5",
        "colab": {
          "base_uri": "https://localhost:8080/"
        },
        "outputId": "3cda4c7f-eaa9-4b61-e406-67efc329f733"
      },
      "execution_count": null,
      "outputs": [
        {
          "output_type": "stream",
          "name": "stdout",
          "text": [
            "Top 10 most suitable locations for tree planting:\n",
            "              date  latitude  longitude  suitability_score\n",
            "101244  2024-07-19     40.73       30.2              89.59\n",
            "97297   2024-07-11     40.73       30.2              89.23\n",
            "113087  2024-08-12     40.73       30.2              88.97\n",
            "117034  2024-08-20     40.73       30.2              88.91\n",
            "93349   2024-07-03     40.73       30.2              88.04\n",
            "105192  2024-07-27     40.73       30.2              86.89\n",
            "85453   2024-06-17     40.73       30.2              86.34\n",
            "81505   2024-06-09     40.73       30.2              86.24\n",
            "77557   2024-06-01     40.73       30.2              86.17\n",
            "120981  2024-08-28     40.73       30.2              85.91\n",
            "Some example locations with a score of 0:\n",
            "              date  latitude  longitude  suitability_score\n",
            "134307  2024-09-29     40.85      29.71                0.0\n",
            "134306  2024-09-29     40.84      29.71                0.0\n",
            "2485    2024-01-01     40.64      30.00                0.0\n",
            "129434  2024-09-21     40.88      29.46                0.0\n",
            "129435  2024-09-21     40.89      29.46                0.0\n",
            "Results have been saved to 'tree_analysis.csv'.\n",
            "  A total of 180480 points were written to the file (including unsuitable ones).\n"
          ]
        }
      ]
    }
  ]
}